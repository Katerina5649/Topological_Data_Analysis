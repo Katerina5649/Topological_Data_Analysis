{
 "cells": [
  {
   "cell_type": "code",
   "execution_count": 1,
   "metadata": {},
   "outputs": [],
   "source": [
    "import numpy as np\n",
    "import random\n",
    "\n",
    "# функция для создания облака точек с центром x0 и радиусом r\n",
    "def create_cloud(x0, r, n = 1000):\n",
    "    dim  = x0.shape[0]\n",
    "    points = []\n",
    "    for i in range(n):\n",
    "        x = x0 + r*np.random.random(dim)\n",
    "        while(np.linalg.norm(x - x0) > r):\n",
    "            x = x0 + r*np.random.random(dim)\n",
    "            \n",
    "        points.append(x)\n",
    "        \n",
    "    return np.array(points)\n",
    "    "
   ]
  },
  {
   "cell_type": "code",
   "execution_count": 2,
   "metadata": {},
   "outputs": [],
   "source": [
    "# функция для подсчета матрицы рассояний\n",
    "def dist(X):\n",
    "    dists = np.sqrt(np.sum((X[:, np.newaxis] - X)**2, axis=2))\n",
    "    return dists"
   ]
  },
  {
   "cell_type": "code",
   "execution_count": 3,
   "metadata": {},
   "outputs": [],
   "source": [
    "dim = 2\n",
    "x_1 = np.zeros(dim)\n",
    "x_2 = np.zeros(dim) + 1\n",
    "r1 = 2\n",
    "r2 = 2\n",
    "# создадим два облака точек\n",
    "cloud_1 = create_cloud(x_1, r1, n = 20)\n",
    "cloud_2 = create_cloud(x_2, r2, n = 20)\n",
    "# объединим их\n",
    "cloud = np.vstack((cloud_1, cloud_2))\n",
    "# получим матрицу расстояний\n",
    "d = dist(cloud)"
   ]
  },
  {
   "cell_type": "code",
   "execution_count": 4,
   "metadata": {},
   "outputs": [],
   "source": [
    "# занулим расстояния для первого облака\n",
    "d[:cloud_1.shape[0]][:cloud_1.shape[0]] = 0."
   ]
  },
  {
   "cell_type": "code",
   "execution_count": 5,
   "metadata": {},
   "outputs": [],
   "source": [
    "f = open('cloud_distance.lower_distance_matrix', 'w')"
   ]
  },
  {
   "cell_type": "code",
   "execution_count": 6,
   "metadata": {},
   "outputs": [],
   "source": [
    "# запишем в файл нижнетреугольную матрицу\n",
    "for i in range(d.shape[0]):\n",
    "    for j in range(i):\n",
    "        f.write(str(d[i][j]))\n",
    "        f.write(' ')\n",
    "    f.write('\\n')"
   ]
  },
  {
   "cell_type": "code",
   "execution_count": 7,
   "metadata": {},
   "outputs": [],
   "source": [
    "f.close()"
   ]
  },
  {
   "cell_type": "code",
   "execution_count": 8,
   "metadata": {},
   "outputs": [],
   "source": [
    "# запустим подсчет баркодов и резултат запишем в logs.txt"
   ]
  },
  {
   "cell_type": "code",
   "execution_count": 9,
   "metadata": {},
   "outputs": [],
   "source": [
    "!ripser/ripser cloud_distance.lower_distance_matrix --dim 2 > logs.txt"
   ]
  },
  {
   "cell_type": "code",
   "execution_count": 10,
   "metadata": {},
   "outputs": [],
   "source": [
    "f = open('logs.txt', 'r')\n",
    "\n",
    "\n",
    "\n",
    "barcodes = []\n",
    "b = []\n",
    "for line in f:\n",
    "    \n",
    "    if line[1] == '[':\n",
    "        x, y = line[2:-2].split(',')\n",
    "        if y == ' ':\n",
    "            y = float('inf')\n",
    "        b.append([float(x), float(y)])\n",
    "        #print(barcodes)\n",
    "\n",
    "    if line[0:11] == 'persistence':\n",
    "        if (len(b) == 0):\n",
    "            continue\n",
    "        #print(barcodes)\n",
    "        barcodes.append(np.array(b))\n",
    "        b = []\n",
    "\n",
    "barcodes = np.array(barcodes)"
   ]
  },
  {
   "cell_type": "code",
   "execution_count": 11,
   "metadata": {},
   "outputs": [],
   "source": [
    "import matplotlib.pyplot as plt\n",
    "\n",
    "# функция для отрисовки баркодом\n",
    "def plot_barcodes(arr, color_list = ['b','g','r','c','m','y','k']):\n",
    "    sh = arr.shape[0]\n",
    "    step = 0\n",
    "    if (len(color_list) < sh):\n",
    "        color_list *= sh\n",
    "    for i in range(sh):\n",
    "        barc = arr[i]\n",
    "        plt.plot(barc[0], np.ones(2)*step, color = color_list[i], label = 'H{}'.format(i))\n",
    "        for b in barc:\n",
    "            plt.plot(b, np.ones(2)*step, color = color_list[i])\n",
    "            step += 1\n",
    "    plt.legend(loc = 'lower right')"
   ]
  },
  {
   "cell_type": "code",
   "execution_count": 12,
   "metadata": {},
   "outputs": [
    {
     "data": {
      "image/png": "[encoded data removed]",
      "text/plain": [
       "<Figure size 432x288 with 1 Axes>"
      ]
     },
     "metadata": {
      "needs_background": "light"
     },
     "output_type": "display_data"
    }
   ],
   "source": [
    "plot_barcodes(barcodes)"
   ]
  },
  {
   "cell_type": "code",
   "execution_count": null,
   "metadata": {},
   "outputs": [],
   "source": []
  }
 ],
 "metadata": {
  "kernelspec": {
   "display_name": "Python 3",
   "language": "python",
   "name": "python3"
  },
  "language_info": {
   "codemirror_mode": {
    "name": "ipython",
    "version": 3
   },
   "file_extension": ".py",
   "mimetype": "text/x-python",
   "name": "python",
   "nbconvert_exporter": "python",
   "pygments_lexer": "ipython3",
   "version": "3.7.4"
  }
 },
 "nbformat": 4,
 "nbformat_minor": 2
}
