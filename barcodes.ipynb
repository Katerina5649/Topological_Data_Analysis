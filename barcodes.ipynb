{
 "cells": [
  {
   "cell_type": "code",
   "execution_count": 1,
   "metadata": {},
   "outputs": [],
   "source": [
    "import numpy as np\n",
    "import random\n",
    "\n",
    "# функция для создания облака точек с центром x0 и радиусом r\n",
    "def create_cloud(x0, r, n = 1000):\n",
    "    dim  = x0.shape[0]\n",
    "    points = []\n",
    "    for i in range(n):\n",
    "        x = x0 + r*np.random.random(dim)\n",
    "        while(np.linalg.norm(x - x0) > r):\n",
    "            x = x0 + r*np.random.random(dim)\n",
    "            \n",
    "        points.append(x)\n",
    "        \n",
    "    return np.array(points)\n",
    "    "
   ]
  },
  {
   "cell_type": "code",
   "execution_count": 2,
   "metadata": {},
   "outputs": [],
   "source": [
    "# функция для подсчета матрицы рассояний\n",
    "def dist(X):\n",
    "    dists = np.sqrt(np.sum((X[:, np.newaxis] - X)**2, axis=2))\n",
    "    return dists"
   ]
  },
  {
   "cell_type": "code",
   "execution_count": 28,
   "metadata": {},
   "outputs": [],
   "source": [
    "dim = 2\n",
    "x_1 = np.zeros(dim)\n",
    "x_2 = np.zeros(dim) + 100\n",
    "r1 = 10\n",
    "r2 = 10\n",
    "# создадим два облака точек\n",
    "cloud_1 = create_cloud(x_1, r1, n = 10)\n",
    "cloud_2 = create_cloud(x_2, r2, n = 10)\n",
    "# объединим их\n",
    "cloud = np.vstack((cloud_1, cloud_2))\n",
    "# получим матрицу расстояний\n",
    "d = dist(cloud)"
   ]
  },
  {
   "cell_type": "code",
   "execution_count": 29,
   "metadata": {},
   "outputs": [],
   "source": [
    "# занулим расстояния для первого облака\n",
    "d[:cloud_1.shape[0]][:cloud_1.shape[0]] = 0."
   ]
  },
  {
   "cell_type": "code",
   "execution_count": 30,
   "metadata": {},
   "outputs": [],
   "source": [
    "f = open('cloud_distance.lower_distance_matrix', 'w')"
   ]
  },
  {
   "cell_type": "code",
   "execution_count": 31,
   "metadata": {},
   "outputs": [],
   "source": [
    "# запишем в файл нижнетреугольную матрицу\n",
    "for i in range(d.shape[0]):\n",
    "    for j in range(i):\n",
    "        f.write(str(d[i][j]))\n",
    "        f.write(' ')\n",
    "    f.write('\\n')"
   ]
  },
  {
   "cell_type": "code",
   "execution_count": 32,
   "metadata": {},
   "outputs": [],
   "source": [
    "f.close()"
   ]
  },
  {
   "cell_type": "code",
   "execution_count": 33,
   "metadata": {},
   "outputs": [
    {
     "name": "stdout",
     "output_type": "stream",
     "text": [
      "value range: [0,149.327]\r\n",
      "sparse distance matrix with 20 points and 144/199 entries\r\n",
      "persistence intervals in dim 0:\r\n",
      " [0,0.655507)\r\n",
      " [0,1.4468)\r\n",
      " [0,1.48509)\r\n",
      " [0,1.71712)\r\n",
      " [0,2.10866)\r\n",
      " [0,2.73822)\r\n",
      " [0,3.09965)\r\n",
      " [0,3.1615)\r\n",
      " [0,3.69366)\r\n",
      " [0,136.188)\r\n",
      " [0, )\r\n",
      "persistence intervals in dim 1:\r\n",
      " [4.09597,4.69487)\r\n",
      "persistence intervals in dim 2:\r\n"
     ]
    }
   ],
   "source": [
    "!ripser/ripser cloud_distance.lower_distance_matrix --dim 2"
   ]
  },
  {
   "cell_type": "code",
   "execution_count": null,
   "metadata": {},
   "outputs": [],
   "source": []
  }
 ],
 "metadata": {
  "kernelspec": {
   "display_name": "Python 3",
   "language": "python",
   "name": "python3"
  },
  "language_info": {
   "codemirror_mode": {
    "name": "ipython",
    "version": 3
   },
   "file_extension": ".py",
   "mimetype": "text/x-python",
   "name": "python",
   "nbconvert_exporter": "python",
   "pygments_lexer": "ipython3",
   "version": "3.7.4"
  }
 },
 "nbformat": 4,
 "nbformat_minor": 2
}
